{
  "nbformat": 4,
  "nbformat_minor": 0,
  "metadata": {
    "colab": {
      "provenance": [],
      "authorship_tag": "ABX9TyNX+wCinqAcbn8/B6uXYdrm",
      "include_colab_link": true
    },
    "kernelspec": {
      "name": "python3",
      "display_name": "Python 3"
    },
    "language_info": {
      "name": "python"
    }
  },
  "cells": [
    {
      "cell_type": "markdown",
      "metadata": {
        "id": "view-in-github",
        "colab_type": "text"
      },
      "source": [
        "<a href=\"https://colab.research.google.com/github/abdelhadi-12/Machine-Learning-/blob/main/Diamond_Price_Prediction_R%C3%A9seau_de_Neurones.ipynb\" target=\"_parent\"><img src=\"https://colab.research.google.com/assets/colab-badge.svg\" alt=\"Open In Colab\"/></a>"
      ]
    },
    {
      "cell_type": "code",
      "execution_count": null,
      "metadata": {
        "colab": {
          "base_uri": "https://localhost:8080/",
          "height": 74
        },
        "id": "ra9-FAksDTBc",
        "outputId": "f8cb973f-f8a3-420a-bd3f-ff2cf9fee3bc"
      },
      "outputs": [
        {
          "output_type": "display_data",
          "data": {
            "text/plain": [
              "<IPython.core.display.HTML object>"
            ],
            "text/html": [
              "\n",
              "     <input type=\"file\" id=\"files-3ecb599b-b02e-4cfb-a986-a4bd3af0efe2\" name=\"files[]\" multiple disabled\n",
              "        style=\"border:none\" />\n",
              "     <output id=\"result-3ecb599b-b02e-4cfb-a986-a4bd3af0efe2\">\n",
              "      Upload widget is only available when the cell has been executed in the\n",
              "      current browser session. Please rerun this cell to enable.\n",
              "      </output>\n",
              "      <script>// Copyright 2017 Google LLC\n",
              "//\n",
              "// Licensed under the Apache License, Version 2.0 (the \"License\");\n",
              "// you may not use this file except in compliance with the License.\n",
              "// You may obtain a copy of the License at\n",
              "//\n",
              "//      http://www.apache.org/licenses/LICENSE-2.0\n",
              "//\n",
              "// Unless required by applicable law or agreed to in writing, software\n",
              "// distributed under the License is distributed on an \"AS IS\" BASIS,\n",
              "// WITHOUT WARRANTIES OR CONDITIONS OF ANY KIND, either express or implied.\n",
              "// See the License for the specific language governing permissions and\n",
              "// limitations under the License.\n",
              "\n",
              "/**\n",
              " * @fileoverview Helpers for google.colab Python module.\n",
              " */\n",
              "(function(scope) {\n",
              "function span(text, styleAttributes = {}) {\n",
              "  const element = document.createElement('span');\n",
              "  element.textContent = text;\n",
              "  for (const key of Object.keys(styleAttributes)) {\n",
              "    element.style[key] = styleAttributes[key];\n",
              "  }\n",
              "  return element;\n",
              "}\n",
              "\n",
              "// Max number of bytes which will be uploaded at a time.\n",
              "const MAX_PAYLOAD_SIZE = 100 * 1024;\n",
              "\n",
              "function _uploadFiles(inputId, outputId) {\n",
              "  const steps = uploadFilesStep(inputId, outputId);\n",
              "  const outputElement = document.getElementById(outputId);\n",
              "  // Cache steps on the outputElement to make it available for the next call\n",
              "  // to uploadFilesContinue from Python.\n",
              "  outputElement.steps = steps;\n",
              "\n",
              "  return _uploadFilesContinue(outputId);\n",
              "}\n",
              "\n",
              "// This is roughly an async generator (not supported in the browser yet),\n",
              "// where there are multiple asynchronous steps and the Python side is going\n",
              "// to poll for completion of each step.\n",
              "// This uses a Promise to block the python side on completion of each step,\n",
              "// then passes the result of the previous step as the input to the next step.\n",
              "function _uploadFilesContinue(outputId) {\n",
              "  const outputElement = document.getElementById(outputId);\n",
              "  const steps = outputElement.steps;\n",
              "\n",
              "  const next = steps.next(outputElement.lastPromiseValue);\n",
              "  return Promise.resolve(next.value.promise).then((value) => {\n",
              "    // Cache the last promise value to make it available to the next\n",
              "    // step of the generator.\n",
              "    outputElement.lastPromiseValue = value;\n",
              "    return next.value.response;\n",
              "  });\n",
              "}\n",
              "\n",
              "/**\n",
              " * Generator function which is called between each async step of the upload\n",
              " * process.\n",
              " * @param {string} inputId Element ID of the input file picker element.\n",
              " * @param {string} outputId Element ID of the output display.\n",
              " * @return {!Iterable<!Object>} Iterable of next steps.\n",
              " */\n",
              "function* uploadFilesStep(inputId, outputId) {\n",
              "  const inputElement = document.getElementById(inputId);\n",
              "  inputElement.disabled = false;\n",
              "\n",
              "  const outputElement = document.getElementById(outputId);\n",
              "  outputElement.innerHTML = '';\n",
              "\n",
              "  const pickedPromise = new Promise((resolve) => {\n",
              "    inputElement.addEventListener('change', (e) => {\n",
              "      resolve(e.target.files);\n",
              "    });\n",
              "  });\n",
              "\n",
              "  const cancel = document.createElement('button');\n",
              "  inputElement.parentElement.appendChild(cancel);\n",
              "  cancel.textContent = 'Cancel upload';\n",
              "  const cancelPromise = new Promise((resolve) => {\n",
              "    cancel.onclick = () => {\n",
              "      resolve(null);\n",
              "    };\n",
              "  });\n",
              "\n",
              "  // Wait for the user to pick the files.\n",
              "  const files = yield {\n",
              "    promise: Promise.race([pickedPromise, cancelPromise]),\n",
              "    response: {\n",
              "      action: 'starting',\n",
              "    }\n",
              "  };\n",
              "\n",
              "  cancel.remove();\n",
              "\n",
              "  // Disable the input element since further picks are not allowed.\n",
              "  inputElement.disabled = true;\n",
              "\n",
              "  if (!files) {\n",
              "    return {\n",
              "      response: {\n",
              "        action: 'complete',\n",
              "      }\n",
              "    };\n",
              "  }\n",
              "\n",
              "  for (const file of files) {\n",
              "    const li = document.createElement('li');\n",
              "    li.append(span(file.name, {fontWeight: 'bold'}));\n",
              "    li.append(span(\n",
              "        `(${file.type || 'n/a'}) - ${file.size} bytes, ` +\n",
              "        `last modified: ${\n",
              "            file.lastModifiedDate ? file.lastModifiedDate.toLocaleDateString() :\n",
              "                                    'n/a'} - `));\n",
              "    const percent = span('0% done');\n",
              "    li.appendChild(percent);\n",
              "\n",
              "    outputElement.appendChild(li);\n",
              "\n",
              "    const fileDataPromise = new Promise((resolve) => {\n",
              "      const reader = new FileReader();\n",
              "      reader.onload = (e) => {\n",
              "        resolve(e.target.result);\n",
              "      };\n",
              "      reader.readAsArrayBuffer(file);\n",
              "    });\n",
              "    // Wait for the data to be ready.\n",
              "    let fileData = yield {\n",
              "      promise: fileDataPromise,\n",
              "      response: {\n",
              "        action: 'continue',\n",
              "      }\n",
              "    };\n",
              "\n",
              "    // Use a chunked sending to avoid message size limits. See b/62115660.\n",
              "    let position = 0;\n",
              "    do {\n",
              "      const length = Math.min(fileData.byteLength - position, MAX_PAYLOAD_SIZE);\n",
              "      const chunk = new Uint8Array(fileData, position, length);\n",
              "      position += length;\n",
              "\n",
              "      const base64 = btoa(String.fromCharCode.apply(null, chunk));\n",
              "      yield {\n",
              "        response: {\n",
              "          action: 'append',\n",
              "          file: file.name,\n",
              "          data: base64,\n",
              "        },\n",
              "      };\n",
              "\n",
              "      let percentDone = fileData.byteLength === 0 ?\n",
              "          100 :\n",
              "          Math.round((position / fileData.byteLength) * 100);\n",
              "      percent.textContent = `${percentDone}% done`;\n",
              "\n",
              "    } while (position < fileData.byteLength);\n",
              "  }\n",
              "\n",
              "  // All done.\n",
              "  yield {\n",
              "    response: {\n",
              "      action: 'complete',\n",
              "    }\n",
              "  };\n",
              "}\n",
              "\n",
              "scope.google = scope.google || {};\n",
              "scope.google.colab = scope.google.colab || {};\n",
              "scope.google.colab._files = {\n",
              "  _uploadFiles,\n",
              "  _uploadFilesContinue,\n",
              "};\n",
              "})(self);\n",
              "</script> "
            ]
          },
          "metadata": {}
        },
        {
          "output_type": "stream",
          "name": "stdout",
          "text": [
            "Saving diamonds.csv to diamonds.csv\n"
          ]
        }
      ],
      "source": [
        "  from google.colab import files\n",
        "uploaded= files.upload()"
      ]
    },
    {
      "cell_type": "code",
      "source": [
        "import numpy as np\n",
        "import pandas as pd\n",
        "import seaborn as sns\n",
        "import matplotlib.pyplot as plt\n",
        "\n",
        "from sklearn.model_selection import train_test_split\n",
        "from sklearn.preprocessing import LabelEncoder, StandardScaler\n",
        "from sklearn.metrics import mean_squared_error, r2_score\n",
        "\n",
        "from tensorflow.keras.models import Sequential\n",
        "from tensorflow.keras.layers import Dense, Dropout\n",
        "from tensorflow.keras.optimizers import Adam"
      ],
      "metadata": {
        "id": "EvC-ApylDyQm"
      },
      "execution_count": null,
      "outputs": []
    },
    {
      "cell_type": "code",
      "source": [
        "data = pd.read_csv(\"diamonds.csv\")"
      ],
      "metadata": {
        "id": "yKSIab-LD_Po"
      },
      "execution_count": null,
      "outputs": []
    },
    {
      "cell_type": "markdown",
      "source": [
        "# Nettoyage des données :\n",
        "# - Suppression de la colonne inutile \"Unnamed: 0\".\n",
        "# - Suppression des lignes avec des valeurs de dimensions 'x', 'y', ou 'z' égales à 0.\n",
        "# - Application de filtres pour éliminer les valeurs aberrantes sur les dimensions et autres attributs comme 'depth' et 'table'.\n"
      ],
      "metadata": {
        "id": "iGnGnjVWS_n-"
      }
    },
    {
      "cell_type": "code",
      "source": [
        "\n",
        "data = data.drop([\"Unnamed: 0\"], axis=1)\n",
        "data = data.drop(data[data[\"x\"]==0].index)\n",
        "data = data.drop(data[data[\"y\"]==0].index)\n",
        "data = data.drop(data[data[\"z\"]==0].index)\n",
        "data = data[(data[\"depth\"]<75) & (data[\"depth\"]>45)]\n",
        "data = data[(data[\"table\"]<80) & (data[\"table\"]>40)]\n",
        "data = data[(data[\"x\"]<30)]\n",
        "data = data[(data[\"y\"]<30)]\n",
        "data = data[(data[\"z\"]<30) & (data[\"z\"]>2)]"
      ],
      "metadata": {
        "id": "n_lc_Y5hEKxE"
      },
      "execution_count": null,
      "outputs": []
    },
    {
      "cell_type": "markdown",
      "source": [
        "# Identifier les colonnes catégorielles ('object') dans les données.\n",
        "# Copier les données originales pour les transformer.\n",
        "# Utiliser un encodeur de labels (LabelEncoder) pour convertir les colonnes catégorielles en valeurs numériques.\n",
        "# Cela permet de préparer les données pour les modèles qui nécessitent des entrées numériques.\n"
      ],
      "metadata": {
        "id": "AsnYoLk-TGYK"
      }
    },
    {
      "cell_type": "code",
      "source": [
        "s = (data.dtypes == \"object\")\n",
        "object_cols = list(s[s].index)\n",
        "label_data = data.copy()\n",
        "label_encoder = LabelEncoder()\n",
        "for col in object_cols:\n",
        "    label_data[col] = label_encoder.fit_transform(label_data[col])"
      ],
      "metadata": {
        "id": "pWrPnBxPEQ_y"
      },
      "execution_count": null,
      "outputs": []
    },
    {
      "cell_type": "markdown",
      "source": [
        "# Séparer les données en variables indépendantes (X) et variable cible (y).\n",
        "# X contient toutes les colonnes sauf \"price\" (les caractéristiques), tandis que y contient uniquement la colonne \"price\" (la variable cible).\n"
      ],
      "metadata": {
        "id": "_yXFb88ETLd8"
      }
    },
    {
      "cell_type": "code",
      "source": [
        "X = label_data.drop(\"price\", axis=1)\n",
        "y = label_data[\"price\"]"
      ],
      "metadata": {
        "id": "STY4sNRlEUx3"
      },
      "execution_count": null,
      "outputs": []
    },
    {
      "cell_type": "markdown",
      "source": [
        "# Appliquer une mise à l'échelle des données (standardisation) pour les variables indépendantes (X).\n",
        "# Le StandardScaler ajuste les données pour avoir une moyenne de 0 et un écart-type de 1.\n",
        "# Ensuite, diviser les données en ensembles d'entraînement et de test (80% / 20%) pour l'évaluation du modèle.\n"
      ],
      "metadata": {
        "id": "tXNkV4LATS5C"
      }
    },
    {
      "cell_type": "code",
      "source": [
        "scaler = StandardScaler()\n",
        "X_scaled = scaler.fit_transform(X)\n",
        "\n",
        "X_train, X_test, y_train, y_test = train_test_split(X_scaled, y, test_size=0.2, random_state=42)"
      ],
      "metadata": {
        "id": "c4hg0d91EcAF"
      },
      "execution_count": null,
      "outputs": []
    },
    {
      "cell_type": "markdown",
      "source": [
        "# Définition d'un modèle de réseau de neurones séquentiel pour la régression :\n",
        "# - 2 couches denses avec des activations ReLU et dropout pour éviter le surapprentissage.\n",
        "# - 1 couche de sortie avec une activation linéaire pour prédire un prix.\n",
        "# - Compilation du modèle avec l'optimiseur Adam et une fonction de perte MSE, en utilisant MAE comme métrique.\n"
      ],
      "metadata": {
        "id": "io9kmhRjTe6k"
      }
    },
    {
      "cell_type": "code",
      "source": [
        "model = Sequential()\n",
        "model.add(Dense(64, input_shape=(X_train.shape[1],), activation='relu'))\n",
        "model.add(Dropout(0.3))\n",
        "model.add(Dense(32, activation='relu'))\n",
        "model.add(Dropout(0.3))\n",
        "model.add(Dense(1, activation='linear'))  # Prédiction de prix\n",
        "\n",
        "model.compile(optimizer=Adam(learning_rate=0.001), loss='mse', metrics=['mae'])\n"
      ],
      "metadata": {
        "colab": {
          "base_uri": "https://localhost:8080/"
        },
        "id": "6EMu-Zb6Eh7d",
        "outputId": "e8c2ad10-6d8e-4ebc-a707-aaa9dd1879d3"
      },
      "execution_count": null,
      "outputs": [
        {
          "output_type": "stream",
          "name": "stderr",
          "text": [
            "/usr/local/lib/python3.11/dist-packages/keras/src/layers/core/dense.py:87: UserWarning: Do not pass an `input_shape`/`input_dim` argument to a layer. When using Sequential models, prefer using an `Input(shape)` object as the first layer in the model instead.\n",
            "  super().__init__(activity_regularizer=activity_regularizer, **kwargs)\n"
          ]
        }
      ]
    },
    {
      "cell_type": "markdown",
      "source": [
        "# Entraînement du modèle sur les données d'entraînement (X_train, y_train).\n",
        "# - Le modèle est entraîné pendant 100 époques avec une taille de batch de 32.\n",
        "# - 20% des données d'entraînement sont utilisées pour la validation à chaque époque.\n",
        "# - 'verbose=0' permet d'entrainer le modèle sans afficher de détails pendant l'entraînement.\n"
      ],
      "metadata": {
        "id": "ONH5iXNTTkej"
      }
    },
    {
      "cell_type": "code",
      "source": [
        "history = model.fit(X_train, y_train, epochs=100, batch_size=32, validation_split=0.2, verbose=0)\n"
      ],
      "metadata": {
        "id": "KwEemLCyEx_z"
      },
      "execution_count": null,
      "outputs": []
    },
    {
      "cell_type": "markdown",
      "source": [
        "# Faire des prédictions sur les données de test (X_test) avec le modèle entraîné.\n",
        "# - 'flatten()' est utilisé pour transformer les prédictions en un vecteur 1D.\n",
        "# Calculer l'erreur quadratique moyenne (MSE) et le coefficient de détermination (R²) pour évaluer la performance du modèle.\n",
        "# Afficher les résultats de l'évaluation du modèle (MSE et R²).\n"
      ],
      "metadata": {
        "id": "oX4fdz7NTxfL"
      }
    },
    {
      "cell_type": "code",
      "source": [
        "y_pred = model.predict(X_test).flatten()\n",
        "mse = mean_squared_error(y_test, y_pred)\n",
        "r2 = r2_score(y_test, y_pred)\n",
        "\n",
        "print(\"--- Réseau de Neurones (MLP) ---\")\n",
        "print(f\"Mean Squared Error: {mse:.2f}\")\n",
        "print(f\"R² Score: {r2:.2f}\")"
      ],
      "metadata": {
        "colab": {
          "base_uri": "https://localhost:8080/"
        },
        "id": "EyoUTINoGJ1f",
        "outputId": "68e5e23b-c390-4043-dd4d-eef259ba5619"
      },
      "execution_count": null,
      "outputs": [
        {
          "output_type": "stream",
          "name": "stdout",
          "text": [
            "\u001b[1m337/337\u001b[0m \u001b[32m━━━━━━━━━━━━━━━━━━━━\u001b[0m\u001b[37m\u001b[0m \u001b[1m0s\u001b[0m 1ms/step\n",
            "--- Réseau de Neurones (MLP) ---\n",
            "Mean Squared Error: 1129637.12\n",
            "R² Score: 0.93\n"
          ]
        }
      ]
    },
    {
      "cell_type": "markdown",
      "source": [
        "# Effectue des prédictions sur les données de test et évalue les performances du modèle à l'aide de MSE et R².\n",
        "# Affiche les résultats de l'évaluation (MSE et R²) pour mesurer la précision du modèle.\n"
      ],
      "metadata": {
        "id": "O38KjUG4T-rr"
      }
    },
    {
      "cell_type": "code",
      "source": [
        "plt.figure(figsize=(10, 4))\n",
        "plt.plot(history.history['loss'], label='Train Loss')\n",
        "plt.plot(history.history['val_loss'], label='Val Loss')\n",
        "plt.title('Courbe de perte (MSE)')\n",
        "plt.xlabel('Epochs')\n",
        "plt.ylabel('Loss')\n",
        "plt.legend()\n",
        "plt.grid(True)\n",
        "plt.tight_layout()\n",
        "plt.show()"
      ],
      "metadata": {
        "id": "HgQOecrLGNDP",
        "outputId": "fd8f8fff-4a30-41fc-f17d-bc673141201f",
        "colab": {
          "base_uri": "https://localhost:8080/",
          "height": 407
        }
      },
      "execution_count": null,
      "outputs": [
        {
          "output_type": "display_data",
          "data": {
            "text/plain": [
              "<Figure size 1000x400 with 1 Axes>"
            ],
            "image/png": "[encoded data removed]"
          },
          "metadata": {}
        }
      ]
    }
  ]
}